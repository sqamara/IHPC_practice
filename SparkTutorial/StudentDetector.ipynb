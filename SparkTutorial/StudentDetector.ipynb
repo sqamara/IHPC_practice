{
 "cells": [
  {
   "cell_type": "code",
   "execution_count": 1,
   "metadata": {
    "collapsed": true
   },
   "outputs": [],
   "source": [
    "import findspark\n",
    "findspark.init()\n",
    "\n",
    "import pyspark\n",
    "sc = pyspark.SparkContext()"
   ]
  },
  {
   "cell_type": "code",
   "execution_count": 2,
   "metadata": {
    "collapsed": false
   },
   "outputs": [],
   "source": [
    "# HDFS\n",
    "hadoop_rdd = sc.hadoopFile(\"hdfs://localhost:9000/user/sebastian/sample_student_scores/input\",\\\n",
    "                           \"org.apache.hadoop.mapred.TextInputFormat\",\\\n",
    "                           \"org.apache.hadoop.io.Text\",\\\n",
    "                           \"org.apache.hadoop.io.LongWritable\")\n",
    "inputfile_RDD = hadoop_rdd.map(lambda pair : pair[1])"
   ]
  },
  {
   "cell_type": "code",
   "execution_count": 3,
   "metadata": {
    "collapsed": true
   },
   "outputs": [],
   "source": [
    "# non HDFS\n",
    "#inputfile_RDD = sc.textFile(\"./sample_student_scores/input/*\")"
   ]
  },
  {
   "cell_type": "code",
   "execution_count": 4,
   "metadata": {
    "collapsed": false
   },
   "outputs": [
    {
     "data": {
      "text/plain": [
       "['Kelly Math 88',\n",
       " 'Kelly History 98',\n",
       " 'Aston Math 93',\n",
       " 'Aston History 93',\n",
       " 'Leigh Math 75',\n",
       " 'Kit Math 62',\n",
       " 'Jewel History 79',\n",
       " 'Mason Math 50',\n",
       " 'Mason History 50',\n",
       " 'Taylor Math 95',\n",
       " 'Taylor History 95',\n",
       " 'Hildred Math 99',\n",
       " 'Hildred History 10',\n",
       " 'Andy Math 45',\n",
       " 'Brett Math 78',\n",
       " 'Charlie Math 82',\n",
       " 'Bernie Math 70',\n",
       " 'Odell Math 33',\n",
       " 'Robbie History 77',\n",
       " 'Sammy History 88',\n",
       " 'Sidney History 55',\n",
       " 'Josh Math 25',\n",
       " 'Josh History 35']"
      ]
     },
     "execution_count": 4,
     "metadata": {},
     "output_type": "execute_result"
    }
   ],
   "source": [
    "inputfile_RDD.collect()"
   ]
  },
  {
   "cell_type": "code",
   "execution_count": 5,
   "metadata": {
    "collapsed": false
   },
   "outputs": [
    {
     "data": {
      "text/plain": [
       "['Kelly Math 88',\n",
       " 'Kelly History 98',\n",
       " 'Aston Math 93',\n",
       " 'Aston History 93',\n",
       " 'Leigh Math 75',\n",
       " 'Kit Math 62',\n",
       " 'Jewel History 79',\n",
       " 'Mason Math 50',\n",
       " 'Mason History 50',\n",
       " 'Taylor Math 95',\n",
       " 'Taylor History 95',\n",
       " 'Hildred Math 99',\n",
       " 'Hildred History 10',\n",
       " 'Andy Math 45',\n",
       " 'Brett Math 78',\n",
       " 'Charlie Math 82',\n",
       " 'Bernie Math 70',\n",
       " 'Odell Math 33',\n",
       " 'Robbie History 77',\n",
       " 'Sammy History 88',\n",
       " 'Sidney History 55',\n",
       " 'Josh Math 25',\n",
       " 'Josh History 35']"
      ]
     },
     "execution_count": 5,
     "metadata": {},
     "output_type": "execute_result"
    }
   ],
   "source": [
    "def removeIndexes(p):\n",
    "    return p[1]\n",
    "hadoop_rdd.map(removeIndexes).collect()"
   ]
  },
  {
   "cell_type": "code",
   "execution_count": 6,
   "metadata": {
    "collapsed": false
   },
   "outputs": [],
   "source": [
    "import math\n",
    "\n",
    "def scoresByClass(line):\n",
    "    values = line.split();\n",
    "    name = values[1]\n",
    "    count = 1\n",
    "    score = int(values[2])\n",
    "    square_sum = score*score\n",
    "    return (name, [count, score, square_sum])\n",
    "def reduceScoresByClass(a, b):\n",
    "    c = []\n",
    "    c.append(a[0] + b[0])\n",
    "    c.append(a[1] + b[1])\n",
    "    c.append(a[2] + b[2])\n",
    "    return c\n",
    "def reduceScoresToMeanAndSD(p):\n",
    "    print(p)\n",
    "    mean = p[1][1]/p[1][0]\n",
    "    sd = math.sqrt(p[1][2]/p[1][0]-mean*mean)\n",
    "    cutoff = mean - sd\n",
    "    return (p[0], cutoff)"
   ]
  },
  {
   "cell_type": "code",
   "execution_count": 7,
   "metadata": {
    "collapsed": false
   },
   "outputs": [
    {
     "data": {
      "text/plain": [
       "[('Math', 45.61207359306223), ('History', 40.0679395675865)]"
      ]
     },
     "execution_count": 7,
     "metadata": {},
     "output_type": "execute_result"
    }
   ],
   "source": [
    "cutoffs = inputfile_RDD.map(scoresByClass)\\\n",
    "                .reduceByKey(reduceScoresByClass)\\\n",
    "                .map(reduceScoresToMeanAndSD)\\\n",
    "                .collect()\n",
    "cutoffs"
   ]
  },
  {
   "cell_type": "code",
   "execution_count": 8,
   "metadata": {
    "collapsed": false
   },
   "outputs": [],
   "source": [
    "def getCutoff(class_name):\n",
    "    for pair in cutoffs:\n",
    "        if (pair[0] == class_name):\n",
    "            return pair[1]\n",
    "\n",
    "def scoresByName(line):\n",
    "    values = line.split();\n",
    "    name = values[0]\n",
    "    class_name = values [1]\n",
    "    score = int(values[2])\n",
    "    return (name, [class_name, score])\n",
    "def filterUsingCutoff(p):\n",
    "    name = p[0]\n",
    "    class_name = p[1][0]\n",
    "    score = p[1][1]\n",
    "    if (getCutoff(class_name) > score):\n",
    "        return True\n",
    "    else:\n",
    "        return False\n",
    "def removeScores(a):\n",
    "    return (a[0], a[1][0])\n",
    "def reduceClassesToName(a, b):\n",
    "    return [a, b]"
   ]
  },
  {
   "cell_type": "code",
   "execution_count": 9,
   "metadata": {
    "collapsed": false
   },
   "outputs": [
    {
     "data": {
      "text/plain": [
       "[('Hildred', 'History'),\n",
       " ('Odell', 'Math'),\n",
       " ('Josh', ['Math', 'History']),\n",
       " ('Andy', 'Math')]"
      ]
     },
     "execution_count": 9,
     "metadata": {},
     "output_type": "execute_result"
    }
   ],
   "source": [
    "inputfile_RDD.map(scoresByName).filter(filterUsingCutoff).map(removeScores).reduceByKey(reduceClassesToName).collect()"
   ]
  },
  {
   "cell_type": "code",
   "execution_count": null,
   "metadata": {
    "collapsed": true
   },
   "outputs": [],
   "source": []
  },
  {
   "cell_type": "code",
   "execution_count": null,
   "metadata": {
    "collapsed": true
   },
   "outputs": [],
   "source": []
  }
 ],
 "metadata": {
  "kernelspec": {
   "display_name": "Python 3",
   "language": "python",
   "name": "python3"
  },
  "language_info": {
   "codemirror_mode": {
    "name": "ipython",
    "version": 3
   },
   "file_extension": ".py",
   "mimetype": "text/x-python",
   "name": "python",
   "nbconvert_exporter": "python",
   "pygments_lexer": "ipython3",
   "version": "3.4.4"
  }
 },
 "nbformat": 4,
 "nbformat_minor": 0
}
