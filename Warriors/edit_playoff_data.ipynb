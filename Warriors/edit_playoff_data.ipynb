{
 "cells": [
  {
   "cell_type": "code",
   "execution_count": 1,
   "metadata": {
    "collapsed": false
   },
   "outputs": [],
   "source": [
    "season_file = open(\"./data/train/2015_16.csv\", 'r')\n",
    "playoffs_file = open(\"./data/unedited_playoffs/2015_16_playoffs.csv\", 'r')\n",
    "new_playoffs_file = open(\"./data/test/2015_16_playoffs.csv\", 'w')"
   ]
  },
  {
   "cell_type": "code",
   "execution_count": 2,
   "metadata": {
    "collapsed": false
   },
   "outputs": [],
   "source": [
    "lines = [line for line in season_file]"
   ]
  },
  {
   "cell_type": "code",
   "execution_count": 3,
   "metadata": {
    "collapsed": false
   },
   "outputs": [],
   "source": [
    "last_game = lines[len(lines)-1].split(',')"
   ]
  },
  {
   "cell_type": "code",
   "execution_count": 4,
   "metadata": {
    "collapsed": false
   },
   "outputs": [],
   "source": [
    "end_season_ratio = (last_game[11], last_game[12])"
   ]
  },
  {
   "cell_type": "code",
   "execution_count": 5,
   "metadata": {
    "collapsed": false,
    "scrolled": true
   },
   "outputs": [],
   "source": [
    "playoff_lines = [line.split(',') for line in playoffs_file]"
   ]
  },
  {
   "cell_type": "code",
   "execution_count": 6,
   "metadata": {
    "collapsed": false
   },
   "outputs": [],
   "source": [
    "for data in playoff_lines:\n",
    "    if (data[0] != 'G'):\n",
    "        data[11] = str(int(data[11])+int(end_season_ratio[0]))\n",
    "        data[12] = str(int(data[12])+int(end_season_ratio[1]))"
   ]
  },
  {
   "cell_type": "code",
   "execution_count": 7,
   "metadata": {
    "collapsed": false
   },
   "outputs": [],
   "source": [
    "new_playoff_lines = [','.join(data) for data in playoff_lines]"
   ]
  },
  {
   "cell_type": "code",
   "execution_count": 8,
   "metadata": {
    "collapsed": false
   },
   "outputs": [
    {
     "data": {
      "text/plain": [
       "['G,Date,,,,,Opponent,,,Tm,Opp,W,L,Streak,Notes\\n',\n",
       " '1,Sat Apr 16 2016,3:30p EST,,Box Score,,Houston Rockets,W,,104,78,74,9,W 1,\\n',\n",
       " '2,Mon Apr 18 2016,10:30p EST,,Box Score,,Houston Rockets,W,,115,106,75,9,W 2,\\n',\n",
       " '3,Thu Apr 21 2016,9:30p EST,,Box Score,@,Houston Rockets,L,,96,97,75,10,L 1,\\n',\n",
       " '4,Sun Apr 24 2016,3:30p EST,,Box Score,@,Houston Rockets,W,,121,94,76,10,W 1,\\n',\n",
       " '5,Wed Apr 27 2016,10:30p EST,,Box Score,,Houston Rockets,W,,114,81,77,10,W 2,\\n',\n",
       " 'G,Date,,,,,Opponent,,,Tm,Opp,W,L,Streak,Notes\\n',\n",
       " '6,Sun May 1 2016,3:30p EST,,Box Score,,Portland Trail Blazers,W,,118,106,78,10,W 3,\\n',\n",
       " '7,Tue May 3 2016,10:30p EST,,Box Score,,Portland Trail Blazers,W,,110,99,79,10,W 4,\\n',\n",
       " '8,Sat May 7 2016,8:30p EST,,Box Score,@,Portland Trail Blazers,L,,108,120,79,11,L 1,\\n',\n",
       " '9,Mon May 9 2016,10:30p EST,,Box Score,@,Portland Trail Blazers,W,OT,132,125,80,11,W 1,\\n',\n",
       " '10,Wed May 11 2016,10:30p EST,,Box Score,,Portland Trail Blazers,W,,125,121,81,11,W 2,\\n',\n",
       " 'G,Date,,,,,Opponent,,,Tm,Opp,W,L,Streak,Notes\\n',\n",
       " '11,Mon May 16 2016,9:00p EST,,Box Score,,Oklahoma City Thunder,L,,102,108,81,12,L 1,\\n',\n",
       " '12,Wed May 18 2016,9:00p EST,,Box Score,,Oklahoma City Thunder,W,,118,91,82,12,W 1,\\n',\n",
       " '13,Sun May 22 2016,8:00p EST,,Box Score,@,Oklahoma City Thunder,L,,105,133,82,13,L 1,\\n',\n",
       " '14,Tue May 24 2016,9:00p EST,,Box Score,@,Oklahoma City Thunder,L,,94,118,82,14,L 2,\\n',\n",
       " '15,Thu May 26 2016,9:00p EST,,Box Score,,Oklahoma City Thunder,W,,120,111,83,14,W 1,\\n',\n",
       " '16,Sat May 28 2016,9:00p EST,,Box Score,@,Oklahoma City Thunder,W,,108,101,84,14,W 2,\\n',\n",
       " '17,Mon May 30 2016,9:00p EST,,Box Score,,Oklahoma City Thunder,W,,96,88,85,14,W 3,\\n',\n",
       " 'G,Date,,,,,Opponent,,,Tm,Opp,W,L,Streak,Notes\\n',\n",
       " '18,Thu Jun 2 2016,9:00p EST,,Box Score,,Cleveland Cavaliers,W,,104,89,86,14,W 4,\\n',\n",
       " '19,Sun Jun 5 2016,8:00p EST,,Box Score,,Cleveland Cavaliers,W,,110,77,87,14,W 5,\\n',\n",
       " '20,Wed Jun 8 2016,9:00p EST,,Box Score,@,Cleveland Cavaliers,L,,90,120,87,15,L 1,\\n',\n",
       " '21,Fri Jun 10 2016,9:00p EST,,Box Score,@,Cleveland Cavaliers,W,,108,97,88,15,W 1,\\n',\n",
       " '22,Mon Jun 13 2016,9:00p EST,,Box Score,,Cleveland Cavaliers,L,,97,112,88,16,L 1,\\n',\n",
       " '23,Thu Jun 16 2016,9:00p EST,,Box Score,@,Cleveland Cavaliers,L,,101,115,88,17,L 2,\\n',\n",
       " '24,Sun Jun 19 2016,8:00p EST,,Box Score,,Cleveland Cavaliers,L,,89,93,88,18,L 3,\\n']"
      ]
     },
     "execution_count": 8,
     "metadata": {},
     "output_type": "execute_result"
    }
   ],
   "source": [
    "new_playoff_lines"
   ]
  },
  {
   "cell_type": "code",
   "execution_count": 9,
   "metadata": {
    "collapsed": false
   },
   "outputs": [],
   "source": [
    "for line in new_playoff_lines:\n",
    "    new_playoffs_file.write(line)"
   ]
  },
  {
   "cell_type": "code",
   "execution_count": 10,
   "metadata": {
    "collapsed": true
   },
   "outputs": [],
   "source": [
    "season_file.close()\n",
    "playoffs_file.close()\n",
    "new_playoffs_file.close()"
   ]
  },
  {
   "cell_type": "code",
   "execution_count": null,
   "metadata": {
    "collapsed": true
   },
   "outputs": [],
   "source": []
  }
 ],
 "metadata": {
  "kernelspec": {
   "display_name": "Python 3",
   "language": "python",
   "name": "python3"
  },
  "language_info": {
   "codemirror_mode": {
    "name": "ipython",
    "version": 3
   },
   "file_extension": ".py",
   "mimetype": "text/x-python",
   "name": "python",
   "nbconvert_exporter": "python",
   "pygments_lexer": "ipython3",
   "version": "3.4.4"
  }
 },
 "nbformat": 4,
 "nbformat_minor": 0
}
